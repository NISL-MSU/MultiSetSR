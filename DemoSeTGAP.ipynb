{
 "cells": [
  {
   "cell_type": "markdown",
   "source": [
    "# SeTGAP: **S**ymbolic R**e**gression using **T**ransformers, **G**enetic **A**lgorithms, and Genetic **P**rogramming\n",
    "\n",
    "## Installation\n",
    "\n",
    "Execute `!pip install git+https://github.com/...`  % Hidden due to double-blind review"
   ],
   "metadata": {
    "collapsed": false,
    "id": "FSxK4oaVIzKd"
   }
  },
  {
   "cell_type": "code",
   "source": [
    "!pip install -q git+https://github.com/MultiSetSR\n",
    "import warnings\n",
    "warnings.filterwarnings(\"ignore\")"
   ],
   "metadata": {
    "colab": {
     "base_uri": "https://localhost:8080/"
    },
    "id": "Y__1Bwv3KSq3",
    "outputId": "9ab2cb89-6148-49ff-93cb-bd45fd25ee3d"
   },
   "execution_count": 1,
   "outputs": [
    {
     "output_type": "stream",
     "name": "stdout",
     "text": [
      "Found existing installation: MultiSetSR 0.0.1\n",
      "Uninstalling MultiSetSR-0.0.1:\n",
      "  Successfully uninstalled MultiSetSR-0.0.1\n",
      "  Installing build dependencies ... \u001B[?25l\u001B[?25hdone\n",
      "  Getting requirements to build wheel ... \u001B[?25l\u001B[?25hdone\n",
      "  Preparing metadata (pyproject.toml) ... \u001B[?25l\u001B[?25hdone\n",
      "  Building wheel for MultiSetSR (pyproject.toml) ... \u001B[?25l\u001B[?25hdone\n"
     ]
    }
   ]
  },
  {
   "cell_type": "markdown",
   "source": [
    "## Example using pre-determined datasets\n",
    "\n",
    "In this example, we will estimate the multivariate symbolic expression of a system whose underlying equation is one of the following:\n",
    "\n",
    "<br>\n",
    "\n",
    "| Eq. | Underlying equation________________________________________________________|\n",
    "|-----|------------------------|\n",
    "| E1  | $ (3.0375 x_1 x_2 + 5.5 \\sin (9/4 (x_1 - 2/3)(x_2 - 2/3)))/5 $|\n",
    "| E2  | $ 5.5 + (1- x_1/4) ^ 2 + \\sqrt{x_2 + 10} \\sin( x_3/5)$|\n",
    "| E3  | $(1.5 e^{1.5  x_1} + 5 \\cos(3 x_2)) / 10$|\n",
    "| E4  | $((1- x_1)^2 + (1- x_3) ^ 2 + 100 (x_2 - x_1 ^ 2) ^ 2 + 100 (x_4 - x_3 ^ 2) ^ 2)/10000$|\n",
    "| E5  | $\\sin(x_1 + x_2 x_3) + \\exp{(1.2  x_4)}$|\n",
    "| E6  | $\\tanh(x_1 / 2) + \\text{abs}(x_2) \\cos(x_3^2/5)$|\n",
    "| E7  | $(1 - x_2^2) / (\\sin(2 \\pi \\, x_1) + 1.5)$|\n",
    "| E8  | $x_1^4 / (x_1^4 + 1) + x_2^4 / (x_2^4 + 1)$|\n",
    "| E9  | $\\log(2 x_2 + 1) - \\log(4 x_1 ^ 2 + 1)$|\n",
    "| E10 | $\\sin(x_1 \\, e^{x_2})$|\n",
    "| E11 | $x_1 \\, \\log(x_2 ^ 4)$|\n",
    "| E12 | $1 + x_1 \\, \\sin(1 / x_2)$|\n",
    "| E13 | $\\sqrt{x_1}\\, \\log(x_2 ^ 2)$|"
   ],
   "metadata": {
    "id": "pOyWruXjKWAK"
   }
  },
  {
   "cell_type": "code",
   "execution_count": 2,
   "outputs": [],
   "source": [
    "from EquationLearning.SymbolicRegressor.MSSP import *\n",
    "from EquationLearning.SymbolicRegressor.SetGAP import SetGAP\n",
    "\n",
    "datasetName = 'E6'\n",
    "data_loader = DataLoader(name=datasetName)\n",
    "data = data_loader.dataset"
   ],
   "metadata": {
    "id": "gPjx1EfiIzKf"
   }
  },
  {
   "cell_type": "markdown",
   "source": [
    "**Define NN and load weights**\n",
    "\n",
    "For this example, we have already trained a feedforward neural network on the generated dataset so we only load their corresponding weights."
   ],
   "metadata": {
    "collapsed": false,
    "id": "UJddKsl-IzKg"
   }
  },
  {
   "cell_type": "code",
   "execution_count": 3,
   "outputs": [],
   "source": [
    "device = torch.device(\"cuda:0\" if torch.cuda.is_available() else \"cpu\")\n",
    "root = get_project_root()\n",
    "folder = os.path.join(root, \"EquationLearning//saved_models//saved_NNs//\" + datasetName)\n",
    "filepath = folder + \"//weights-NN-\" + datasetName\n",
    "nn_model = NNModel(device=device, n_features=data.n_features, NNtype=data_loader.modelType)\n",
    "nn_model.loadModel(filepath)"
   ],
   "metadata": {
    "id": "p_HcTwFlIzKg"
   }
  },
  {
   "cell_type": "markdown",
   "source": [
    "**Get Estimated Multivariate Expressions**\n",
    "\n",
    "The following method will generate some candidate multivariate expressions and select the most appropriates for the given dataset"
   ],
   "metadata": {
    "collapsed": false,
    "id": "BZDdLquCIzKh"
   }
  },
  {
   "cell_type": "code",
   "execution_count": 4,
   "outputs": [
    {
     "output_type": "stream",
     "name": "stdout",
     "text": [
      "********************************\n",
      "Analyzing variable x0\n",
      "********************************\n",
      "Predicted skeleton 1 for variable x0: c*tanh(c*x0) + c\n",
      "Predicted skeleton 2 for variable x0: c*sqrt(c*tanh(c*x0) + c) + c\n",
      "\n",
      "Choosing the best skeleton... (skeletons ordered based on number of nodes)\n",
      "    Skeleton: c*tanh(c*x0). Correlation: 0.9996484870765862. Expr: -tanh(0.535674*x0)\n",
      "    Skeleton: c*sqrt(c*tanh(c*x0) + c). Correlation: 0.9996505762354936. Expr: 4.2461216421577*sqrt(0.0253371839750401*tanh(0.535718*x0) + 1)\n",
      "********************************\n",
      "Analyzing variable x1\n",
      "********************************\n",
      "Predicted skeleton 1 for variable x1: c*Abs(x1) + c\n",
      "\n",
      "Choosing the best skeleton... (skeletons ordered based on number of nodes)\n",
      "    Skeleton: c*Abs(x1). Correlation: 0.9990508604702034. Expr: 14.998537*Abs(x1)\n",
      "********************************\n",
      "Analyzing variable x2\n",
      "********************************\n",
      "Predicted skeleton 1 for variable x2: c*cos(c*x2**2 + c*x2 + c) + c\n",
      "Predicted skeleton 2 for variable x2: c*cos(c*x2**3 + c*x2**2 + c*x2 + c) + c\n",
      "Predicted skeleton 3 for variable x2: c*sin(c*x2 + c) + c\n",
      "\n",
      "Choosing the best skeleton... (skeletons ordered based on number of nodes)\n",
      "    Skeleton: sin(c*x2 + c). Correlation: 0.46108060285798025. Expr: sin(2.411966*x2 - 1.559999)\n",
      "    Skeleton: cos(c*x2**2 + c). Correlation: 0.9997768085935977. Expr: cos(0.200073*x2**2 - 3.139425)\n",
      "    Skeleton: cos(c*x2**3 + c*x2**2 + c*x2 + c). Correlation: 0.6766331524013177. Expr: cos(0.007401*x2**3 - 0.26743*x2**2 - 0.043496*x2 + 3.848914)\n",
      "\n",
      "******************************\n",
      "Merging skeletons of variables  [x2] , and  x0\n",
      "******************************\n",
      "  0%|          | 2/5000 [00:06<4:11:39,  3.02s/it]\n",
      "100%|██████████| 250/250 [1:11:00<00:00, 17.04s/it]\n",
      "Generated skeleton  1 / 2 :  c*sqrt(c*tanh(c*x0) + c) + c*cos(c*x2**2 + c)  Fitness = 0.999696\n",
      "  0%|          | 2/5000 [00:04<3:23:15,  2.44s/it]\n",
      "100%|██████████| 250/250 [1:02:34<00:00, 15.02s/it]\n",
      "Generated skeleton  2 / 2 :  c*cos(c*x2**2 + c) + c*tanh(c*x0)  Fitness = 0.99978\n",
      "\n",
      "******************************\n",
      "Merging skeletons of variables  [x2, x0] , and  x1\n",
      "******************************\n",
      "  0%|          | 4/5000 [00:04<1:40:50,  1.21s/it]\n",
      " 60%|██████    | 150/250 [2:48:08<1:52:05, 67.25s/it]\n",
      "Generated skeleton  1 / 2 :  c*cos(c*x2**2 + c)*Abs(x1) + c*tanh(c*x0)  Fitness = 0.999851\n",
      "  0%|          | 4/5000 [00:10<3:31:33,  2.54s/it]\n",
      "100%|██████████| 250/250 [1:53:39<00:00, 27.28s/it]\n",
      "Generated skeleton  2 / 2 :  c*(c + cos(c*x2**2 + c))*Abs(x1) + c*sqrt(c*tanh(c*x0) + c)  Fitness = 0.999447\n",
      "\n",
      "Fitting final coefficients\n",
      "\n",
      "******************************\n",
      "Final estimated expression 1/2:  1.000611*cos(0.199503240596298*x2**2 + 0.00476047459374139)*Abs(x1) + 1.00051094890511*tanh(0.501189912723317*x0) . MSE =  0.041016897315710676\n",
      "******************************\n",
      "\n",
      "******************************\n",
      "Final estimated expression 2/2:  -1.0*sqrt(1.0 - 0.336263912812607*tanh(0.507804602474389*x0)) - (0.170908192930595*cos(0.198670658425482*x2**2 + 3.18585865790382) - 0.000649449609593655)*Abs(x1) + 0.988191098432595 . MSE =  0.09781117827743444\n",
      "******************************\n",
      "\n"
     ]
    },
    {
     "output_type": "execute_result",
     "data": {
      "text/plain": [
       "[1.000611*cos(0.199503240596298*x2**2 + 0.00476047459374139)*Abs(x1) + 1.00051094890511*tanh(0.501189912723317*x0)]"
      ]
     },
     "metadata": {},
     "execution_count": 4
    }
   ],
   "source": [
    "regressor = SetGAP(dataset=data, bb_model=nn_model, n_candidates=2)\n",
    "results = regressor.run()"
   ],
   "metadata": {
    "colab": {
     "base_uri": "https://localhost:8080/"
    },
    "id": "c2zsE5vFIzKh",
    "outputId": "74eddb50-885d-4afc-bb22-74f9e34332fa"
   }
  }
 ],
 "metadata": {
  "kernelspec": {
   "display_name": "Python 3",
   "name": "python3"
  },
  "language_info": {
   "codemirror_mode": {
    "name": "ipython",
    "version": 2
   },
   "file_extension": ".py",
   "mimetype": "text/x-python",
   "name": "python",
   "nbconvert_exporter": "python",
   "pygments_lexer": "ipython2",
   "version": "2.7.6"
  },
  "colab": {
   "provenance": [],
   "gpuType": "T4"
  },
  "accelerator": "GPU"
 },
 "nbformat": 4,
 "nbformat_minor": 0
}
